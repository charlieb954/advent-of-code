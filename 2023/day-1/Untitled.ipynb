{
 "cells": [
  {
   "cell_type": "code",
   "execution_count": null,
   "id": "f8561347",
   "metadata": {},
   "outputs": [],
   "source": [
    "re.finditer()"
   ]
  },
  {
   "cell_type": "code",
   "execution_count": 185,
   "id": "2ca41532",
   "metadata": {},
   "outputs": [
    {
     "name": "stdout",
     "output_type": "stream",
     "text": [
      "fouronevhnrz44\n",
      "eightg1\n",
      "4ninejfpd1jmmnnzjdtk5sjfttvgtdqspvmnhfbm\n",
      "78seven8\n",
      "6pcrrqgbzcspbd\n",
      "7sevenseven\n",
      "1threeeight66\n",
      "one1sevensskhdreight\n"
     ]
    },
    {
     "ename": "AttributeError",
     "evalue": "'NoneType' object has no attribute 'group'",
     "output_type": "error",
     "traceback": [
      "\u001b[0;31m---------------------------------------------------------------------------\u001b[0m",
      "\u001b[0;31mAttributeError\u001b[0m                            Traceback (most recent call last)",
      "Cell \u001b[0;32mIn[185], line 25\u001b[0m\n\u001b[1;32m     22\u001b[0m row \u001b[38;5;241m=\u001b[39m row\u001b[38;5;241m.\u001b[39mstrip()\n\u001b[1;32m     24\u001b[0m regexp \u001b[38;5;241m=\u001b[39m re\u001b[38;5;241m.\u001b[39mcompile(\u001b[38;5;124m\"\u001b[39m\u001b[38;5;124m^(one|two|three|four|five|six|seven|eight|nine|\u001b[39m\u001b[38;5;124m\\\u001b[39m\u001b[38;5;124md)\u001b[39m\u001b[38;5;124m\"\u001b[39m)\n\u001b[0;32m---> 25\u001b[0m first \u001b[38;5;241m=\u001b[39m regexp\u001b[38;5;241m.\u001b[39msearch(row)\u001b[38;5;241m.\u001b[39mgroup()\n\u001b[1;32m     27\u001b[0m regexp \u001b[38;5;241m=\u001b[39m re\u001b[38;5;241m.\u001b[39mcompile(\u001b[38;5;124m\"\u001b[39m\u001b[38;5;124m(one|two|three|four|five|six|seven|eight|nine|\u001b[39m\u001b[38;5;124m\\\u001b[39m\u001b[38;5;124md).*$\u001b[39m\u001b[38;5;124m\"\u001b[39m)\n\u001b[1;32m     28\u001b[0m last \u001b[38;5;241m=\u001b[39m regexp\u001b[38;5;241m.\u001b[39msearch(row)\u001b[38;5;241m.\u001b[39mgroups()[\u001b[38;5;241m0\u001b[39m]\n",
      "\u001b[0;31mAttributeError\u001b[0m: 'NoneType' object has no attribute 'group'"
     ]
    }
   ],
   "source": [
    "import re\n",
    "\n",
    "## part 2\n",
    "with open(\"./input.txt\") as f:\n",
    "    input_file = f.readlines()\n",
    "\n",
    "repl = {\n",
    "    \"one\": 1,\n",
    "    \"two\": 2,\n",
    "    \"three\": 3,\n",
    "    \"four\": 4,\n",
    "    \"five\": 5,\n",
    "    \"six\": 6,\n",
    "    \"seven\": 7,\n",
    "    \"eight\": 8,\n",
    "    \"nine\": 9\n",
    "}\n",
    "\n",
    "total = 0\n",
    "for row in input_file:\n",
    "    \n",
    "    row = row.strip()\n",
    "        \n",
    "    regexp = re.compile(\"^()(one|two|three|four|five|six|seven|eight|nine|\\d)\")\n",
    "    first = regexp.search(row).group()\n",
    "\n",
    "    regexp = re.compile(\"(one|two|three|four|five|six|seven|eight|nine|\\d).*$\")\n",
    "    last = regexp.search(row).groups()[0]\n",
    "    \n",
    "    print(row)\n",
    "    \n",
    "    if not first.isdigit():\n",
    "        first = repl[first]\n",
    "    \n",
    "    if not last.isdigit():\n",
    "        last = repl[last]\n",
    "    \n",
    "    calibration_value = int(str(first) + str(last))\n",
    "    total += calibration_value"
   ]
  },
  {
   "cell_type": "code",
   "execution_count": 184,
   "id": "ee8c9900",
   "metadata": {},
   "outputs": [
    {
     "data": {
      "text/plain": [
       "54175"
      ]
     },
     "execution_count": 184,
     "metadata": {},
     "output_type": "execute_result"
    }
   ],
   "source": [
    "total"
   ]
  },
  {
   "cell_type": "code",
   "execution_count": 181,
   "id": "9e7d6b78",
   "metadata": {},
   "outputs": [],
   "source": [
    "regexp.search(row.strip())"
   ]
  },
  {
   "cell_type": "code",
   "execution_count": 168,
   "id": "5ee693c8",
   "metadata": {},
   "outputs": [
    {
     "name": "stdout",
     "output_type": "stream",
     "text": [
      "4ninejfpd1jmmnnzjdtk5sjfttvgtdqspvmnhfbm\n"
     ]
    }
   ],
   "source": [
    "print(row.strip())"
   ]
  },
  {
   "cell_type": "code",
   "execution_count": 161,
   "id": "c04e9dd4",
   "metadata": {},
   "outputs": [],
   "source": []
  },
  {
   "cell_type": "code",
   "execution_count": null,
   "id": "86e21423",
   "metadata": {},
   "outputs": [],
   "source": [
    "forwards  = r\"^(one|two|three|four|five|six|seven|eight|nine|\\d)\"\n",
    "backwards = r\"^.+(one|two|three|four|five|six|seven|eight|nine|\\d).+$\""
   ]
  }
 ],
 "metadata": {
  "kernelspec": {
   "display_name": "Python 3 (ipykernel)",
   "language": "python",
   "name": "python3"
  },
  "language_info": {
   "codemirror_mode": {
    "name": "ipython",
    "version": 3
   },
   "file_extension": ".py",
   "mimetype": "text/x-python",
   "name": "python",
   "nbconvert_exporter": "python",
   "pygments_lexer": "ipython3",
   "version": "3.11.5"
  }
 },
 "nbformat": 4,
 "nbformat_minor": 5
}
